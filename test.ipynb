{
 "cells": [
  {
   "cell_type": "code",
   "execution_count": 7,
   "metadata": {},
   "outputs": [
    {
     "name": "stdout",
     "output_type": "stream",
     "text": [
      "123 124 132 134 142 143 213 214 231 234 241 243 312 314 321 324 341 342 412 413 421 423 431 432 "
     ]
    }
   ],
   "source": [
    "from itertools import *\n",
    "# s = ['a','b','c']\n",
    "# s = {'a','a','b','c'}\n",
    "s = ['1','2','3','4']\n",
    "# t = sorted(set(s))\n",
    "for i in permutations(s,3):\n",
    "    a = ''.join(i)\n",
    "    print(a, end=' ')\n",
    "\n",
    "# for i in combinations(t,2):\n",
    "#     a = ''.join(i)\n",
    "#     print(a, end=' ')"
   ]
  },
  {
   "cell_type": "code",
   "execution_count": 11,
   "metadata": {},
   "outputs": [
    {
     "data": {
      "text/plain": [
       "-0.12"
      ]
     },
     "execution_count": 11,
     "metadata": {},
     "output_type": "execute_result"
    }
   ],
   "source": [
    "a,b,c,d = 1, -5, -4, 20\n",
    "i = 2.01\n",
    "round(a*i**3+b*i**2+c*i+d,2)"
   ]
  },
  {
   "cell_type": "code",
   "execution_count": null,
   "metadata": {},
   "outputs": [],
   "source": []
  }
 ],
 "metadata": {
  "kernelspec": {
   "display_name": "Python 3",
   "language": "python",
   "name": "python3"
  },
  "language_info": {
   "codemirror_mode": {
    "name": "ipython",
    "version": 3
   },
   "file_extension": ".py",
   "mimetype": "text/x-python",
   "name": "python",
   "nbconvert_exporter": "python",
   "pygments_lexer": "ipython3",
   "version": "3.7.9"
  },
  "orig_nbformat": 4,
  "vscode": {
   "interpreter": {
    "hash": "60199f26a171e2ccc51464de885991b1460031c3e3b2ddb57e8531a5f894095b"
   }
  }
 },
 "nbformat": 4,
 "nbformat_minor": 2
}
